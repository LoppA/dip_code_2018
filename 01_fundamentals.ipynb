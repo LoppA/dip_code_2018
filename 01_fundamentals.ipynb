{
 "cells": [
  {
   "cell_type": "markdown",
   "metadata": {},
   "source": [
    "### Aula 01 - Fundamentos\n",
    "#### Utilizaremos python3 e algumas bibliotecas para facilitar carregar, processar, exibir e salvar imagens. Esse código mostra alguns conceitos básicos de python, e das bibliotecas abaixo:\n",
    "\n",
    "#### `numpy` permite trabalhar com arrays multidimensionais e contém muitas funções prontas para realizar operações de forma otimizada\n",
    "\n",
    "#### `imageio` contém funções para carregar e salvar de imagens\n",
    "\n",
    "#### `sys` permite uso de funções do sistema\n",
    "\n",
    "#### `matplotlib` contém diversas funções e classes para exibição de imagens, gráficos e outros"
   ]
  },
  {
   "cell_type": "code",
   "execution_count": 2,
   "metadata": {
    "collapsed": true
   },
   "outputs": [],
   "source": [
    "import numpy as np\n",
    "import imageio\n",
    "import sys\n",
    "import matplotlib.pyplot as plt"
   ]
  },
  {
   "cell_type": "markdown",
   "metadata": {},
   "source": [
    "Ao utilizar a palavra `as` estamos atribuindo um \"alias\" à biblioteca, facilitando seu acesso. \n",
    "Assim, ao invés de, por exemplo, utilizar o comando abaixo, que gera um vetor com 10 elementos, todos com valor zero (0)\n",
    "\n",
    "`A = numpy.zeros(10)`\n",
    "\n",
    "Podemos simplesmente usar:"
   ]
  },
  {
   "cell_type": "code",
   "execution_count": 3,
   "metadata": {
    "collapsed": true
   },
   "outputs": [],
   "source": [
    "A = np.zeros(10)"
   ]
  },
  {
   "cell_type": "code",
   "execution_count": 4,
   "metadata": {},
   "outputs": [
    {
     "name": "stdout",
     "output_type": "stream",
     "text": [
      "[ 0.  0.  0.  0.  0.  0.  0.  0.  0.  0.]\n"
     ]
    }
   ],
   "source": [
    "print(A)"
   ]
  },
  {
   "cell_type": "markdown",
   "metadata": {},
   "source": [
    "Abaixo, utilizarei a entrada (via teclado) para ler nomes de duas imagens a serem carregadas. Para isso uso a função: `input()` e então converto o conteúdo explicitamente para `string`:"
   ]
  },
  {
   "cell_type": "code",
   "execution_count": 8,
   "metadata": {},
   "outputs": [
    {
     "name": "stdout",
     "output_type": "stream",
     "text": [
      "numeros1.png\n",
      "numeros2.png\n"
     ]
    }
   ],
   "source": [
    "filename1 = str(input())\n",
    "filename2 = str(input())\n",
    "\n",
    "img1 = imageio.imread(filename1)\n",
    "img2 = imageio.imread(filename2)"
   ]
  },
  {
   "cell_type": "markdown",
   "metadata": {},
   "source": [
    "Os objetos `img1` e `img2` são do typo `numpy array`, e por isso podemos processá-los como tal. A forma mais simples seria por exemplo percorrer todos os pixels de forma explícita usando dois laços, por exemplo para subtrair uma imagem da outra. Primeiro extraímos o tamanho das imagens"
   ]
  },
  {
   "cell_type": "code",
   "execution_count": 9,
   "metadata": {
    "collapsed": true
   },
   "outputs": [],
   "source": [
    "size1 = img1.shape\n",
    "size2 = img2.shape\n",
    "assert size1 == size2"
   ]
  },
  {
   "cell_type": "markdown",
   "metadata": {},
   "source": [
    "E a seguir, criamos uma nova imagem, tipo float (para evitar overflow) e percorremos todos os pixels, subtraindo:"
   ]
  },
  {
   "cell_type": "code",
   "execution_count": 31,
   "metadata": {},
   "outputs": [],
   "source": [
    "imgout = np.zeros(size1, dtype=float)\n",
    "\n",
    "for x in range(size1[0]):\n",
    "    for y in range(size1[1]):\n",
    "        imgout[x,y] = float(img1[x,y]) - float(img2[x,y])\n",
    "        "
   ]
  },
  {
   "cell_type": "markdown",
   "metadata": {},
   "source": [
    "Para exibir usamos a `matplotlib`. Aqui uso a opção inline apenas para exibição no Notebook, mas isso não é necessário caso não esteja utilizando Jupyter."
   ]
  },
  {
   "cell_type": "code",
   "execution_count": 32,
   "metadata": {
    "collapsed": true
   },
   "outputs": [],
   "source": [
    "%matplotlib inline"
   ]
  },
  {
   "cell_type": "code",
   "execution_count": 34,
   "metadata": {},
   "outputs": [
    {
     "data": {
      "text/plain": [
       "<matplotlib.colorbar.Colorbar at 0x7f6c0006edd8>"
      ]
     },
     "execution_count": 34,
     "metadata": {},
     "output_type": "execute_result"
    },
    {
     "data": {
      "image/png": "[encoded data removed]",
      "text/plain": [
       "<matplotlib.figure.Figure at 0x7f6c000c02b0>"
      ]
     },
     "metadata": {},
     "output_type": "display_data"
    }
   ],
   "source": [
    "plt.imshow(imgout, cmap='gray')\n",
    "plt.colorbar()"
   ]
  },
  {
   "cell_type": "markdown",
   "metadata": {},
   "source": [
    "OBS: Para exibição em uma janela comum em python ou ipython, use: `plt.show()`"
   ]
  },
  {
   "cell_type": "code",
   "execution_count": 35,
   "metadata": {},
   "outputs": [
    {
     "data": {
      "text/plain": [
       "-255.0"
      ]
     },
     "execution_count": 35,
     "metadata": {},
     "output_type": "execute_result"
    }
   ],
   "source": [
    "np.min(imgout)"
   ]
  },
  {
   "cell_type": "code",
   "execution_count": 36,
   "metadata": {},
   "outputs": [
    {
     "data": {
      "text/plain": [
       "255.0"
      ]
     },
     "execution_count": 36,
     "metadata": {},
     "output_type": "execute_result"
    }
   ],
   "source": [
    "np.max(imgout)"
   ]
  },
  {
   "cell_type": "markdown",
   "metadata": {},
   "source": [
    "Os valores mínimo e máximo de imgout são -255 e 255. Devemos normalizar para 0-255 para armazenar, pois os formatos mais comuns usam 8 bits por pixel. Agora não irei percorrer todos os pixels usando laços, mas sim processando diretamente com os operadores de subtração, divisão, etc."
   ]
  },
  {
   "cell_type": "code",
   "execution_count": 37,
   "metadata": {},
   "outputs": [],
   "source": [
    "imax = np.max(imgout)\n",
    "imin = np.min(imgout)\n",
    "imgout_norm = (imgout - imin)/(imax-imin)"
   ]
  },
  {
   "cell_type": "code",
   "execution_count": 38,
   "metadata": {},
   "outputs": [
    {
     "data": {
      "text/plain": [
       "<matplotlib.colorbar.Colorbar at 0x7f6bfbf61470>"
      ]
     },
     "execution_count": 38,
     "metadata": {},
     "output_type": "execute_result"
    },
    {
     "data": {
      "image/png": "[encoded data removed]",
      "text/plain": [
       "<matplotlib.figure.Figure at 0x7f6c0004fef0>"
      ]
     },
     "metadata": {},
     "output_type": "display_data"
    }
   ],
   "source": [
    "plt.imshow(imgout_norm, cmap=\"gray\")\n",
    "plt.colorbar()"
   ]
  },
  {
   "cell_type": "markdown",
   "metadata": {},
   "source": [
    "A nova imagem tem valores entre 0 e 1, podemos então multiplicar por 255 e converter para `uint8`"
   ]
  },
  {
   "cell_type": "code",
   "execution_count": 40,
   "metadata": {
    "collapsed": true
   },
   "outputs": [],
   "source": [
    "imgout_norm = (imgout_norm*255).astype(np.uint8)"
   ]
  },
  {
   "cell_type": "code",
   "execution_count": 41,
   "metadata": {},
   "outputs": [
    {
     "data": {
      "text/plain": [
       "<matplotlib.colorbar.Colorbar at 0x7f6bfbe8a278>"
      ]
     },
     "execution_count": 41,
     "metadata": {},
     "output_type": "execute_result"
    },
    {
     "data": {
      "image/png": "[encoded data removed]",
      "text/plain": [
       "<matplotlib.figure.Figure at 0x7f6bfbf4d470>"
      ]
     },
     "metadata": {},
     "output_type": "display_data"
    }
   ],
   "source": [
    "plt.imshow(imgout_norm, cmap=\"gray\")\n",
    "plt.colorbar()"
   ]
  },
  {
   "cell_type": "code",
   "execution_count": null,
   "metadata": {
    "collapsed": true
   },
   "outputs": [],
   "source": [
    "Finalmente, "
   ]
  }
 ],
 "metadata": {
  "kernelspec": {
   "display_name": "Python 3",
   "language": "python",
   "name": "python3"
  },
  "language_info": {
   "codemirror_mode": {
    "name": "ipython",
    "version": 3
   },
   "file_extension": ".py",
   "mimetype": "text/x-python",
   "name": "python",
   "nbconvert_exporter": "python",
   "pygments_lexer": "ipython3",
   "version": "3.6.4"
  }
 },
 "nbformat": 4,
 "nbformat_minor": 2
}
